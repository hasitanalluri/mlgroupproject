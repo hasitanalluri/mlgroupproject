{
 "cells": [
  {
   "cell_type": "markdown",
   "metadata": {},
   "source": [
    "### 1. Abstract ~ TODO: 300 words\n"
   ]
  },
  {
   "cell_type": "markdown",
   "metadata": {},
   "source": [
    "### 2. Introduction\n",
    "\n",
    "The COVID-19 pandemic placed immense pressure on healthcare systems across the world, with hospitals in the United States experiencing significant strain in terms of patient capacity, ICU utilization, and staff availability. Among the most critical challenges was the issue of hospital staffing shortages—instances where medical facilities reported insufficient staff to meet operational demands. These shortages not only affected the quality and timeliness of care but also placed additional burdens on the re...\n",
    "\n",
    "This paper investigates whether it is possible to predict hospital staffing shortages using publicly available data, specifically focusing on COVID-19-related hospital reports in the United States. The primary dataset, sourced from [healthdata.gov](https://healthdata.gov/), contains detailed time series data on hospital capacity, staffing, and COVID-19 metrics for all 50 states, the District of Columbia, and several U.S. territories. It spans from early 2020 through April 2024, capturing the full arc of...\n",
    "\n",
    "The goal of this research is to use supervised machine learning techniques to develop models that can accurately predict whether a state will report a critical staffing shortage on any given day. By identifying the most important predictive features—such as COVID-19 patient counts, ICU occupancy, and time-based trends—we aim to uncover patterns that may inform future public health planning and policy. Ultimately, the hope is that early warnings based on data-driven predictions could allow hospital admin...\n",
    "\n",
    "In approaching this task, we encountered several challenges. The dataset is large and complex, with over 130 features and a wide variety of variable types, including numeric, categorical, and time-based columns. Many variables are sparsely reported or inconsistently documented across states and time periods, which required thoughtful data cleaning and imputation strategies. Furthermore, the target variable—whether a critical staffing shortage was reported on a given day—is relatively imbalanced, with “n...\n",
    "\n",
    "The significance of predicting staffing shortages extends beyond academic interest. During the height of the pandemic, hospitals facing personnel gaps had to delay elective procedures, transfer patients to other facilities, or reduce the level of care provided in ICUs. Staffing constraints also exacerbated burnout among frontline workers, creating a feedback loop that intensified shortages over time. As such, being able to anticipate these gaps even a few days in advance could prove extremely valuable, ...\n",
    "\n",
    "To carry out our study, we first conducted a thorough exploration and cleaning of the dataset. This included removing irrelevant or redundant features, converting time fields into usable formats, and visualizing missingness patterns across key variables. We also transformed the outcome variable into a binary indicator suitable for classification tasks and developed a pre-analysis plan to guide our modeling efforts. This plan outlined our hypotheses, selected features, evaluation metrics, and intended ma...\n",
    "\n",
    "We chose a mix of interpretable and high-performing models for this task: logistic regression for its transparency and baseline value, and tree-based models like Random Forest and XGBoost for their ability to capture non-linear relationships and handle large feature sets. Evaluation was performed using a range of classification metrics, including accuracy, precision, recall, F1 score, and ROC AUC. We also implemented cross-validation to assess how well our models generalized to unseen data and reduce t...\n",
    "\n",
    "Another important focus of our project was feature importance—understanding which inputs contributed most strongly to the predictions. Beyond raw model performance, we wanted to interpret which hospital characteristics, staffing trends, or COVID-19 variables were most informative. For example, we hypothesized that ICU occupancy and recent COVID-19 admission surges would be strong predictors of reported staffing shortages, reflecting the direct relationship between patient volume and staffing stress.\n",
    "\n",
    "Finally, we considered the temporal nature of the data. While most machine learning models assume independent and identically distributed (i.i.d.) samples, real-world data like ours involves sequences over time. To account for this, we explored time-based validation approaches, such as training on early periods and testing on later periods, to check for temporal drift or performance degradation. This is particularly important in public health settings, where early-phase dynamics of a crisis may differ s...\n",
    "\n",
    "In the sections that follow, we describe the dataset and our data cleaning steps in more detail, walk through the methods outlined in our pre-analysis plan, and present the results of our modeling and evaluation process. We conclude by discussing the implications of our findings and directions for future work, including how similar predictive models could be deployed in real-time to help hospital systems remain resilient in the face of ongoing or future public health emergencies.\n"
   ]
  },
  {
   "cell_type": "markdown",
   "metadata": {},
   "source": [
    "### 3. Data\n",
    "get from part 1 in this repo"
   ]
  },
  {
   "cell_type": "markdown",
   "metadata": {},
   "source": [
    "### 4. Methods: Pre-analysis plan submission, cleaned up to be read as part of a paper\n",
    "\n"
   ]
  },
  {
   "cell_type": "markdown",
   "metadata": {},
   "source": [
    "### 5. Results: Results submission, cleaned up to read as part of a paper\n"
   ]
  },
  {
   "cell_type": "markdown",
   "metadata": {},
   "source": [
    "### 6. Conclusion:"
   ]
  },
  {
   "cell_type": "markdown",
   "metadata": {},
   "source": [
    "### 7. References/Bibliography\n",
    "\n"
   ]
  }
 ],
 "metadata": {
  "language_info": {
   "name": "python"
  }
 },
 "nbformat": 4,
 "nbformat_minor": 2
}
